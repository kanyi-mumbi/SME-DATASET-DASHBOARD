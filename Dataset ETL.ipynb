{
 "cells": [
  {
   "cell_type": "code",
   "execution_count": 1,
   "id": "abf6259c",
   "metadata": {},
   "outputs": [],
   "source": [
    "import boto3\n",
    "from botocore import UNSIGNED\n",
    "from botocore.client import Config\n",
    "from io import StringIO \n",
    "\n",
    "import pandas as pd\n",
    "import numpy as np\n",
    "import psycopg2\n",
    "import psycopg2.extras as extras"
   ]
  },
  {
   "cell_type": "code",
   "execution_count": 2,
   "id": "94be865b",
   "metadata": {},
   "outputs": [],
   "source": [
    "#Postgres credentials\n",
    "pw = 'npF5SlOzvW'\n",
    "db = \"d2b_assessment\" \n",
    "user='byroneji4734'\n",
    "host='d2b-internal-assessment-dwh.cxeuj0ektqdz.eu-central-1.rds.amazonaws.com'\n",
    "port = '5432'\n",
    "\n",
    "\n",
    "#s3 credentials\n",
    "s3 = boto3.client('s3', config=Config(signature_version=UNSIGNED))\n",
    "\n",
    "bucket_name =  \"d2b-internal-assessment-bucket\"\n",
    "Prefix='orders_data/'\n",
    "res = s3.list_objects_v2(\n",
    "    Bucket=bucket_name,\n",
    "    Prefix=Prefix)"
   ]
  },
  {
   "cell_type": "code",
   "execution_count": 5,
   "id": "c11facef",
   "metadata": {},
   "outputs": [
    {
     "name": "stdout",
     "output_type": "stream",
     "text": [
      "PostgreSql Database connection successful\n"
     ]
    }
   ],
   "source": [
    "def create_server_connection():\n",
    "    connection = None\n",
    "    try:\n",
    "\n",
    "        connection = psycopg2.connect(\n",
    "            database=db,\n",
    "            user=user,\n",
    "            password=pw,\n",
    "            host=host,\n",
    "            port=port\n",
    "        )\n",
    "        \n",
    "        print(\"PostgreSql Database connection successful\")\n",
    "    except:\n",
    "        print(\"Error\")\n",
    "\n",
    "    return connection\n",
    "\n",
    "\n",
    "connection = create_server_connection()"
   ]
  },
  {
   "cell_type": "code",
   "execution_count": null,
   "id": "713427b7",
   "metadata": {},
   "outputs": [],
   "source": [
    "def read_and_convert_excel_to_dataframe(df_name,file_path):\n",
    "\n",
    "    obj = s3.get_object(Bucket= bucket_name, Key= Prefix+file_path)\n",
    "    df_name = pd.read_excel(obj['Body']) \n",
    "    df_name = pd.DataFrame(df_name)\n",
    "    for column in df_name.columns:\n",
    "    df_name = df_name.withColumnRenamed(column, '_'.join(column.split()).lower())\n",
    "    df_name['client_name'] = df_name.client_name.to_title()\n",
    "    \n",
    "    return df_name \n",
    "\n",
    "\n",
    "read_and_convert_excel_to_dataframe('maxwell','maxwell.xlsx') "
   ]
  },
  {
   "cell_type": "code",
   "execution_count": null,
   "id": "d73a91e4",
   "metadata": {},
   "outputs": [],
   "source": [
    "def load_df_to_postgres(conn, df, table):\n",
    "\n",
    "    tuples = [list(row) for row in df.itertuples(index=False)]\n",
    "\n",
    "\n",
    "    cols = ','.join(list(df.columns))\n",
    "    \n",
    "    # SQL query to execute\n",
    "    query = \"INSERT INTO %s(%s) VALUES %%s\" % (table, cols)                   \n",
    "    cursor = conn.cursor()\n",
    "    \n",
    "    try:\n",
    "        extras.execute_values(cursor, query, tuples)\n",
    "        #cursor.execute(query)\n",
    "        conn.commit()\n",
    "    \n",
    "    except (Exception, psycopg2.DatabaseError):\n",
    "        print(\"Error: %s\")\n",
    "        conn.rollback()\n",
    "        cursor.close()\n",
    "        return 1\n",
    "    except psycopg2.InterfaceError:\n",
    "        pass\n",
    "    print(\"load to postgresql successful\")\n",
    "    cursor.close()\n",
    "\n",
    "    \n",
    "    \n",
    "    \n",
    "    \n",
    "load_df_to_postgres(connection, orders, 'byroneji4734_staging.orders')"
   ]
  }
 ],
 "metadata": {
  "kernelspec": {
   "display_name": "Python 3 (ipykernel)",
   "language": "python",
   "name": "python3"
  },
  "language_info": {
   "codemirror_mode": {
    "name": "ipython",
    "version": 3
   },
   "file_extension": ".py",
   "mimetype": "text/x-python",
   "name": "python",
   "nbconvert_exporter": "python",
   "pygments_lexer": "ipython3",
   "version": "3.9.7"
  }
 },
 "nbformat": 4,
 "nbformat_minor": 5
}
